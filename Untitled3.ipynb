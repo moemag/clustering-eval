{
  "nbformat": 4,
  "nbformat_minor": 0,
  "metadata": {
    "colab": {
      "provenance": [],
      "authorship_tag": "ABX9TyNFtPW8U5aPGCkYwj1vEdM9",
      "include_colab_link": true
    },
    "kernelspec": {
      "name": "python3",
      "display_name": "Python 3"
    },
    "language_info": {
      "name": "python"
    }
  },
  "cells": [
    {
      "cell_type": "markdown",
      "metadata": {
        "id": "view-in-github",
        "colab_type": "text"
      },
      "source": [
        "<a href=\"https://colab.research.google.com/github/moemag/clustering-eval/blob/main/Untitled3.ipynb\" target=\"_parent\"><img src=\"https://colab.research.google.com/assets/colab-badge.svg\" alt=\"Open In Colab\"/></a>"
      ]
    },
    {
      "cell_type": "markdown",
      "metadata": {
        "id": "VnwDl6gHKdUR"
      },
      "source": [
        "## **Q1**"
      ]
    },
    {
      "cell_type": "code",
      "metadata": {
        "colab": {
          "base_uri": "https://localhost:8080/"
        },
        "id": "KnUJzxdaPOuq",
        "outputId": "1c8b3171-5371-4a2b-b0da-14d7bcbb4383"
      },
      "source": [
        "from sklearn.cluster import KMeans\n",
        "import numpy as np\n",
        "kvalues=[2,3,4,5,6]\n",
        "input = np.array([[2,4],\n",
        "                  [3,3],\n",
        "                  [3,4],\n",
        "                  [5,4],\n",
        "                  [5,6],\n",
        "                  [5,8],\n",
        "                  [6,4],\n",
        "                  [6,5],\n",
        "                  [6,7],\n",
        "                  [7,3],\n",
        "                  [7,4],\n",
        "                  [8,2],\n",
        "                  [9,4],\n",
        "                  [10,6],\n",
        "                  [10,7],\n",
        "                  [10,8],\n",
        "                  [11,5]\n",
        "                  ,[11,8],\n",
        "                  [12,7],\n",
        "                  [13,6],\n",
        "                  [13,7],\n",
        "                  [14,6],\n",
        "                  [15,5],\n",
        "                  [15,4]])\n",
        "kmIndex = []\n",
        "for i in kvalues:\n",
        " kmeans = KMeans(n_clusters=i, random_state=0).fit_predict(input) #Compute cluster centers and predict cluster index for each sample.\n",
        " kmIndex.append(kmeans)\n",
        "print(\"cluster index for each sample:\\n\",np.array(kmIndex))\n",
        "\n"
      ],
      "execution_count": null,
      "outputs": [
        {
          "output_type": "stream",
          "text": [
            "cluster index for each sample:\n",
            " [[0 0 0 0 0 0 0 0 0 0 0 0 0 1 1 1 1 1 1 1 1 1 1 1]\n",
            " [1 1 1 1 1 1 1 1 1 1 1 1 0 0 0 0 0 0 0 2 2 2 2 2]\n",
            " [1 1 1 1 1 1 1 1 1 0 0 0 0 3 3 3 3 3 3 2 2 2 2 2]\n",
            " [4 4 4 4 1 1 0 1 1 0 0 0 0 3 3 3 3 3 3 2 2 2 2 2]\n",
            " [5 5 5 3 0 0 3 3 0 3 3 2 2 4 4 4 4 4 4 1 1 1 1 1]]\n"
          ],
          "name": "stdout"
        }
      ]
    },
    {
      "cell_type": "markdown",
      "metadata": {
        "id": "PqnNeNMIKjBI"
      },
      "source": [
        "# **Q2**"
      ]
    },
    {
      "cell_type": "code",
      "metadata": {
        "colab": {
          "base_uri": "https://localhost:8080/"
        },
        "id": "McxDFlzrZJar",
        "outputId": "9424b314-8dde-43b8-d583-6d165f0970ee"
      },
      "source": [
        "from sklearn.cluster import SpectralClustering\n",
        "kmIndex1 = []\n",
        "kmIndex2 = []\n",
        "for i in kvalues:\n",
        "  cluster1 = SpectralClustering(n_clusters=i,affinity='nearest_neighbors',n_neighbors=3,assign_labels=\"discretize\",random_state=0).fit_predict(input)\n",
        "  kmIndex1.append(cluster1)\n",
        "  cluster2 = SpectralClustering(n_clusters=i,affinity='nearest_neighbors',n_neighbors=5,assign_labels=\"discretize\",random_state=0).fit_predict(input)\n",
        "  kmIndex2.append(cluster2)\n",
        "print(\"cluster index for each sample for 3-NN:\\n\",np.array(kmIndex1))\n",
        "print(\"cluster index for each samplefor 5-NN:\\n\",np.array(kmIndex2))\n"
      ],
      "execution_count": null,
      "outputs": [
        {
          "output_type": "stream",
          "text": [
            "cluster index for each sample for 3-NN:\n",
            " [[1 1 1 0 0 0 0 0 0 0 0 0 0 0 0 0 0 0 0 0 0 0 0 0]\n",
            " [1 1 1 2 2 2 2 2 2 2 2 2 2 0 0 0 0 0 0 0 0 0 0 0]\n",
            " [1 1 1 3 3 3 3 3 3 3 3 3 0 0 0 0 0 0 2 2 2 2 2 2]\n",
            " [1 1 1 2 4 4 2 2 4 2 2 2 2 0 0 0 0 0 3 3 3 3 3 3]\n",
            " [1 1 1 5 2 2 5 5 2 4 4 4 4 0 0 0 0 0 3 3 3 3 3 3]]\n",
            "cluster index for each samplefor 5-NN:\n",
            " [[1 1 1 1 1 1 1 1 1 1 1 1 1 0 0 0 0 0 0 0 0 0 0 0]\n",
            " [2 2 2 2 2 2 2 2 2 2 2 2 0 0 0 0 0 0 0 1 1 1 1 1]\n",
            " [1 1 1 1 1 1 3 1 1 3 3 3 3 0 0 0 0 0 0 2 2 2 2 2]\n",
            " [1 1 1 1 4 4 3 4 4 3 3 3 3 0 0 0 0 0 0 2 2 2 2 2]\n",
            " [2 2 2 2 4 4 1 4 4 1 1 1 5 5 0 0 5 0 0 3 3 3 3 3]]\n"
          ],
          "name": "stdout"
        },
        {
          "output_type": "stream",
          "text": [
            "/usr/local/lib/python3.7/dist-packages/sklearn/manifold/_spectral_embedding.py:236: UserWarning: Graph is not fully connected, spectral embedding may not work as expected.\n",
            "  warnings.warn(\"Graph is not fully connected, spectral embedding\"\n",
            "/usr/local/lib/python3.7/dist-packages/sklearn/manifold/_spectral_embedding.py:236: UserWarning: Graph is not fully connected, spectral embedding may not work as expected.\n",
            "  warnings.warn(\"Graph is not fully connected, spectral embedding\"\n",
            "/usr/local/lib/python3.7/dist-packages/sklearn/manifold/_spectral_embedding.py:236: UserWarning: Graph is not fully connected, spectral embedding may not work as expected.\n",
            "  warnings.warn(\"Graph is not fully connected, spectral embedding\"\n",
            "/usr/local/lib/python3.7/dist-packages/sklearn/manifold/_spectral_embedding.py:236: UserWarning: Graph is not fully connected, spectral embedding may not work as expected.\n",
            "  warnings.warn(\"Graph is not fully connected, spectral embedding\"\n",
            "/usr/local/lib/python3.7/dist-packages/sklearn/manifold/_spectral_embedding.py:236: UserWarning: Graph is not fully connected, spectral embedding may not work as expected.\n",
            "  warnings.warn(\"Graph is not fully connected, spectral embedding\"\n"
          ],
          "name": "stderr"
        }
      ]
    },
    {
      "cell_type": "markdown",
      "metadata": {
        "id": "loBlEZZpK7Pl"
      },
      "source": [
        "# **Q3**"
      ]
    },
    {
      "cell_type": "code",
      "metadata": {
        "id": "dfHMEHZWo4Z1",
        "cellView": "code"
      },
      "source": [
        "import math\n",
        "trueCluster=[0 ,0 ,0 ,1 ,1 ,1 ,1 ,1 ,1 ,1 ,1 ,1 ,1 ,2 ,2 ,2 ,2 ,2 ,2 ,2 ,2 ,2 ,2 ,2 ]\n",
        "\n",
        "def Euclidean(a,b):\n",
        "     return math.sqrt((a[0]-b[0])**2 +(a[1]-b[1])**2)\n",
        "#def labelsMatrix(labels,true_labels,k):#(kmindex,ttruthcluster,kvalues)\n",
        "#    x = np.zeros((3,k))\n",
        "#    for i in range(0,24):\n",
        "#      x[true_labels[i]][labels[i]] += 1\n",
        "#    return x\n",
        "def trueClusterMapping(clusters,k):\n",
        "  mp =np.zeros((3,k))\n",
        "  for i in range(0,3):\n",
        "    for j in range(0,k):\n",
        "      mp[i][j]=0;\n",
        "  for i in range(0,24):\n",
        "    mp[trueCluster[i]][clusters[i]]=mp[trueCluster[i]][clusters[i]]+1;\n",
        "  return mp\n",
        "def totalSum(arr,k):\n",
        "  sum=0;\n",
        "  for i in range(0,k):\n",
        "    sum+=arr[i];\n",
        "  return sum\n",
        "def entropy(clusters,k):\n",
        "    mymap = trueClusterMapping(clusters,k)\n",
        "    for i in range(0,3):\n",
        "      sum = totalSum(mymap[i],k)\n",
        "      entropy =0;\n",
        "      for j in range(0,k):\n",
        "        if(mymap[i][j] ==0):\n",
        "           entropy -=(mymap[i][j]/sum)\n",
        "        else:\n",
        "           entropy -=(mymap[i][j]/sum)*math.log(mymap[i][j]/sum,2)\n",
        "      entropy = entropy * (sum/24)\n",
        "      print(\"Entropy for cluster  \",i+1,\"=\",entropy)\n",
        "def purity(clusters,k):\n",
        "    mymap = trueClusterMapping(clusters,k)\n",
        "    totalpurity=0\n",
        "    for i in range(0,3):\n",
        "      purity=0\n",
        "      sum = totalSum(mymap[i],k)\n",
        "      purity = np.amax(mymap[i])/sum\n",
        "      totalpurity += (sum/24)*purity\n",
        "    print(\"Purity =\",totalpurity)\n",
        "\n",
        "def pairwise(clusters,k):\n",
        "  TP=0;\n",
        "  FP = 0\n",
        "  FN = 0\n",
        "  TN = 0\n",
        "  for i  in range(0,24):\n",
        "    for j in range(i+1,24):\n",
        "      if clusters[i] == clusters[j]:\n",
        "        if trueCluster[i] ==  trueCluster[j]:\n",
        "          TP +=1\n",
        "        else:\n",
        "          FP +=1\n",
        "      else:\n",
        "        if trueCluster[i] ==  trueCluster[j]:\n",
        "          FN +=1\n",
        "        else:\n",
        "          TN +=1\n",
        "  rand = (TP + TN)/(TP + TN +FP + FN)\n",
        "  jaccard = (TP)/(FN + TP + FP)\n",
        "  print(\"Rand = \",rand)\n",
        "  print(\"Jaccard = \",jaccard)\n",
        "def MaxMatching(clusters):\n",
        "  mymap = trueClusterMapping(clusters,3)\n",
        "  mx = 0\n",
        "  mx = max(mymap[0][0]+mymap[1,1]+mymap[2,2],mymap[0][0]+mymap[1,2]+mymap[2,1],mymap[0][1]+mymap[1,0]+mymap[2,2],mymap[0][1]+mymap[1,2]+mymap[2,0],\n",
        "           mymap[0][2]+mymap[1,1]+mymap[2,0],mymap[0][2]+mymap[1,0]+mymap[2,1])\n",
        "  print(\"MaxMatching = \",mx/24)\n",
        "def fMeasure(clusters,k):\n",
        "  mymap = trueClusterMapping(clusters,k)\n",
        "  F = 0\n",
        "  for i in range(0,3):\n",
        "    sum = totalSum(mymap[i],k)\n",
        "    prec =np.amax(mymap[i])/sum\n",
        "    ind = np.argmax(mymap[i])\n",
        "    rec = np.amax(mymap[i])/totalSum(mymap[:,ind],3)\n",
        "    F += (2*prec*rec)/(prec+rec)\n",
        "  print(\"FMeasure= \",F/k)\n"
      ],
      "execution_count": null,
      "outputs": []
    },
    {
      "cell_type": "code",
      "metadata": {
        "id": "FZ9_VU74oEG_"
      },
      "source": [
        "def win(labels):\n",
        "    w = 0\n",
        "    for i in range(0,24):\n",
        "       for j in range(0,24):\n",
        "         if labels[i] == labels[j] :\n",
        "           w += Euclidean(input[i],input[j])\n",
        "    return w/2\n",
        " #between cluster and others\n",
        "def wout(labels):\n",
        "    w = 0\n",
        "    for i in range(0,24):\n",
        "       for j in range(0,24):\n",
        "         if labels[i] != labels[j] :\n",
        "           w += Euclidean(input[i],input[j])\n",
        "\n",
        "    return w/2\n",
        "def betaCV(labels,k):\n",
        "    ni = np.zeros((k,1))\n",
        "# cluster sizes\n",
        "    for i in range(0,24):\n",
        "       ni[labels[i]] += 1\n",
        "    Nin = 0\n",
        "    for i in range(0,k):\n",
        "       Nin += ni[i]*(ni[i]-1)\n",
        "    Nin *= 0.5\n",
        "    Nout = 0\n",
        "    for i in range(0,k):\n",
        "     for j in range(i+1,k):\n",
        "       Nout += ni[i] * ni[j]\n",
        "    print(\"betaCV=\",Nout*win(labels) / (Nin*wout(labels)))\n",
        "def NormalizedCut(labels,k):\n",
        "  nc = 0\n",
        "  for i in range(0,k):\n",
        "    w1 = 0\n",
        "    w2 = 0\n",
        "    for j in range(0,24):\n",
        "      if labels[j] != i :\n",
        "         continue\n",
        "    for k in range(0,24):\n",
        "       dis = Euclidean(input[j],input[k])\n",
        "       if labels[k] == labels[j] :\n",
        "             w1 += dis\n",
        "       else:\n",
        "           w2 += dis\n",
        "  nc += 1/((w1/w2)+1)\n",
        "  print(\"Normalized cut\",nc)"
      ],
      "execution_count": null,
      "outputs": []
    },
    {
      "cell_type": "code",
      "metadata": {
        "colab": {
          "base_uri": "https://localhost:8080/"
        },
        "id": "sb7cqvUZoJuk",
        "outputId": "62663005-ee60-4ab0-bec3-06005876157a"
      },
      "source": [
        "for i in range(0,len(kmIndex)):\n",
        "  print(\"Kmeans clustering when k =\",kvalues[i],\"\\n\",kmIndex[i])\n",
        "  entropy(kmIndex[i],kvalues[i])\n",
        "  purity(kmIndex[i],kvalues[i])\n",
        "  pairwise(kmIndex[i],kvalues[i])\n",
        "  fMeasure(kmIndex[i],kvalues[i])\n",
        "  betaCV(kmIndex[i],kvalues[i])\n",
        "  NormalizedCut(kmIndex[i],kvalues[i])\n",
        "  if kvalues[i]==3:\n",
        "     MaxMatching(kmIndex[i])"
      ],
      "execution_count": null,
      "outputs": [
        {
          "output_type": "stream",
          "text": [
            "Kmeans clustering when k = 2 \n",
            " [0 0 0 0 0 0 0 0 0 0 0 0 0 1 1 1 1 1 1 1 1 1 1 1]\n",
            "Entropy for cluster   1 = 0.0\n",
            "Entropy for cluster   2 = 0.0\n",
            "Entropy for cluster   3 = 0.0\n",
            "Purity = 1.0\n",
            "Rand =  0.8913043478260869\n",
            "Jaccard =  0.7744360902255639\n",
            "FMeasure=  1.1222826086956523\n",
            "betaCV= [0.4379162]\n",
            "Normalized cut 0.7514423107741075\n",
            "Kmeans clustering when k = 3 \n",
            " [1 1 1 1 1 1 1 1 1 1 1 1 0 0 0 0 0 0 0 2 2 2 2 2]\n",
            "Entropy for cluster   1 = 0.0\n",
            "Entropy for cluster   2 = 0.19541483066220053\n",
            "Entropy for cluster   3 = 0.4555971802602717\n",
            "Purity = 0.75\n",
            "Rand =  0.7391304347826086\n",
            "Jaccard =  0.47058823529411764\n",
            "FMeasure=  0.6282828282828282\n",
            "betaCV= [0.43782767]\n",
            "Normalized cut 0.9418190621215322\n",
            "MaxMatching =  0.625\n",
            "Kmeans clustering when k = 4 \n",
            " [1 1 1 1 1 1 1 1 1 0 0 0 0 3 3 3 3 3 3 2 2 2 2 2]\n",
            "Entropy for cluster   1 = 0.0\n",
            "Entropy for cluster   2 = 0.4045627476894453\n",
            "Entropy for cluster   3 = 0.4555971802602717\n",
            "Purity = 0.625\n",
            "Rand =  0.7391304347826086\n",
            "Jaccard =  0.4049586776859504\n",
            "FMeasure=  0.45936532507739936\n",
            "betaCV= [0.39067252]\n",
            "Normalized cut 0.9418190621215322\n",
            "Kmeans clustering when k = 5 \n",
            " [4 4 4 4 1 1 0 1 1 0 0 0 0 3 3 3 3 3 3 2 2 2 2 2]\n",
            "Entropy for cluster   1 = 0.0\n",
            "Entropy for cluster   2 = 0.5670683531015339\n",
            "Entropy for cluster   3 = 0.4555971802602717\n",
            "Purity = 0.5833333333333334\n",
            "Rand =  0.7753623188405797\n",
            "Jaccard =  0.41509433962264153\n",
            "FMeasure=  0.4459383753501401\n",
            "betaCV= [0.31646288]\n",
            "Normalized cut 0.9418190621215322\n",
            "Kmeans clustering when k = 6 \n",
            " [5 5 5 3 0 0 3 3 0 3 3 2 2 4 4 4 4 4 4 1 1 1 1 1]\n",
            "Entropy for cluster   1 = 0.0\n",
            "Entropy for cluster   2 = 0.6189480405113894\n",
            "Entropy for cluster   3 = 0.4555971802602717\n",
            "Purity = 0.5833333333333334\n",
            "Rand =  0.7789855072463768\n",
            "Jaccard =  0.4077669902912621\n",
            "FMeasure=  0.3954248366013071\n",
            "betaCV= [0.29286473]\n",
            "Normalized cut 0.9418190621215322\n"
          ],
          "name": "stdout"
        }
      ]
    }
  ]
}